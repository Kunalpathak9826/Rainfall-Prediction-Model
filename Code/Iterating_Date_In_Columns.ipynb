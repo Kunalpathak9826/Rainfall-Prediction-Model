{
 "cells": [
  {
   "cell_type": "code",
   "execution_count": 9,
   "id": "5746a05e",
   "metadata": {},
   "outputs": [],
   "source": [
    "#Add Date\n",
    "import os\n",
    "import pandas as pd\n",
    "\n",
    "def add_date_column_to_csv(folder_path):\n",
    "    # Iterate through each file in the folder\n",
    "    for filename in os.listdir(folder_path):\n",
    "        if filename.endswith('.csv'):\n",
    "            file_path = os.path.join(folder_path, filename)\n",
    "            # Extract date from filename\n",
    "            date_str = filename[28:36]  # Extracting the date portion (assuming the format is fixed)\n",
    "            date = pd.to_datetime(date_str, format='%Y%m%d')  # Convert to datetime object\n",
    "            # Read the CSV file into a pandas dataframe\n",
    "            df = pd.read_csv(file_path)\n",
    "            # Insert date as the first column\n",
    "            df.insert(0, 'Date', date)\n",
    "            # Write the modified dataframe to a new CSV file\n",
    "            df.to_csv(file_path, index=False)\n",
    "\n",
    "# Specify the folder containing the CSV files\n",
    "folder_path = '/Users/kunalpathak9826/Desktop/ISRO/Data/Interpolated CSV/2019'\n",
    "add_date_column_to_csv(folder_path)\n"
   ]
  },
  {
   "cell_type": "code",
   "execution_count": 10,
   "id": "3692eea1",
   "metadata": {},
   "outputs": [
    {
     "name": "stdout",
     "output_type": "stream",
     "text": [
      "Updated file: interpolated_insat_on_imerg_20190101.csv\n",
      "Updated file: interpolated_insat_on_imerg_20190102.csv\n",
      "Updated file: interpolated_insat_on_imerg_20190103.csv\n",
      "Updated file: interpolated_insat_on_imerg_20190107.csv\n",
      "Updated file: interpolated_insat_on_imerg_20190106.csv\n",
      "Updated file: interpolated_insat_on_imerg_20190110.csv\n",
      "Updated file: interpolated_insat_on_imerg_20190104.csv\n",
      "Updated file: interpolated_insat_on_imerg_20190105.csv\n",
      "Updated file: interpolated_insat_on_imerg_20190108.csv\n",
      "Updated file: interpolated_insat_on_imerg_20190109.csv\n"
     ]
    }
   ],
   "source": [
    "#Remove date from column names\n",
    "import os\n",
    "import pandas as pd\n",
    "\n",
    "# Function to remove date from column names\n",
    "def remove_date(column_name):\n",
    "    if ' ' in column_name:  # Check if there is a space in the column name\n",
    "        return ' '.join(column_name.split(' ')[1:])  # Keep everything after the first space\n",
    "    else:\n",
    "        return column_name  # Return unchanged if there is no space\n",
    "\n",
    "# Folder containing CSV files\n",
    "folder_path = '/Users/kunalpathak9826/Desktop/ISRO/Data/Interpolated CSV/2019'\n",
    "\n",
    "# Iterate over each file in the folder\n",
    "for file_name in os.listdir(folder_path):\n",
    "    if file_name.endswith('.csv'):  # Ensure it's a CSV file\n",
    "        file_path = os.path.join(folder_path, file_name)\n",
    "        \n",
    "        # Read the CSV file\n",
    "        df = pd.read_csv(file_path)\n",
    "        \n",
    "        # Apply the function to all column names\n",
    "        df.columns = [remove_date(col) for col in df.columns]\n",
    "        \n",
    "        # Overwrite the original CSV file with the updated DataFrame\n",
    "        df.to_csv(file_path, index=False)\n",
    "        \n",
    "        print(f\"Updated file: {file_name}\")\n"
   ]
  },
  {
   "cell_type": "code",
   "execution_count": 2,
   "id": "7e58fbc7",
   "metadata": {},
   "outputs": [
    {
     "name": "stdout",
     "output_type": "stream",
     "text": [
      "Converted 'Date' column to float64 in file: interpolated_insat_on_imerg_20170109.csv\n",
      "Converted 'Date' column to float64 in file: interpolated_insat_on_imerg_20170108.csv\n",
      "Converted 'Date' column to float64 in file: interpolated_insat_on_imerg_20170101.csv\n",
      "Converted 'Date' column to float64 in file: interpolated_insat_on_imerg_20170103.csv\n",
      "Converted 'Date' column to float64 in file: interpolated_insat_on_imerg_20170102.csv\n",
      "Converted 'Date' column to float64 in file: interpolated_insat_on_imerg_20170106.csv\n",
      "Converted 'Date' column to float64 in file: interpolated_insat_on_imerg_20170107.csv\n",
      "Converted 'Date' column to float64 in file: interpolated_insat_on_imerg_20170105.csv\n",
      "Converted 'Date' column to float64 in file: interpolated_insat_on_imerg_20170104.csv\n",
      "Converted 'Date' column to float64 in file: interpolated_insat_on_imerg_20170110.csv\n"
     ]
    }
   ],
   "source": [
    "import os\n",
    "import pandas as pd\n",
    "\n",
    "# Path to the folder containing CSV files\n",
    "folder_path = \"/Users/kunalpathak9826/Desktop/ISRO/Data/Interpolated CSV/2017\"\n",
    "\n",
    "# List all files in the folder\n",
    "files = os.listdir(folder_path)\n",
    "\n",
    "# Iterate through each file\n",
    "for file in files:\n",
    "    if file.endswith('.csv'):\n",
    "        file_path = os.path.join(folder_path, file)\n",
    "        \n",
    "        # Read the CSV file into a pandas DataFrame\n",
    "        df = pd.read_csv(file_path)\n",
    "        \n",
    "        # Convert 'Date' column to float64\n",
    "        df['Date'] = pd.to_datetime(df['Date']).astype(int) / 10**9\n",
    "        \n",
    "        # Save the modified DataFrame back to the CSV file\n",
    "        df.to_csv(file_path, index=False)\n",
    "\n",
    "        print(f\"Converted 'Date' column to float64 in file: {file}\")\n"
   ]
  },
  {
   "cell_type": "code",
   "execution_count": null,
   "id": "f0b00c69",
   "metadata": {},
   "outputs": [],
   "source": []
  }
 ],
 "metadata": {
  "kernelspec": {
   "display_name": "Python 3 (ipykernel)",
   "language": "python",
   "name": "python3"
  },
  "language_info": {
   "codemirror_mode": {
    "name": "ipython",
    "version": 3
   },
   "file_extension": ".py",
   "mimetype": "text/x-python",
   "name": "python",
   "nbconvert_exporter": "python",
   "pygments_lexer": "ipython3",
   "version": "3.11.3"
  }
 },
 "nbformat": 4,
 "nbformat_minor": 5
}
